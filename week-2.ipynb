{
 "cells": [
  {
   "cell_type": "code",
   "execution_count": 5,
   "id": "ae7eeec7",
   "metadata": {},
   "outputs": [
    {
     "name": "stdout",
     "output_type": "stream",
     "text": [
      "อร่อยจัง 1 2\n",
      "52\n",
      "9.1\n"
     ]
    }
   ],
   "source": [
    "a = 1\n",
    "b = 2\n",
    "c = 3\n",
    "d = a\n",
    "e = b+d\n",
    "f = \"อร่อยจัง\"\n",
    "print (f,a,b)\n",
    "\n",
    "array_from_mysql = \"11.1\"\n",
    "g = 2\n",
    "total = float(array_from_mysql) - g\n",
    "\n",
    "a += 51\n",
    "print (a)\n",
    "\n",
    "print (total)"
   ]
  },
  {
   "cell_type": "code",
   "execution_count": 6,
   "id": "54a03d31",
   "metadata": {},
   "outputs": [
    {
     "ename": "ValueError",
     "evalue": "invalid literal for int() with base 10: 'c'",
     "output_type": "error",
     "traceback": [
      "\u001b[1;31m---------------------------------------------------------------------------\u001b[0m",
      "\u001b[1;31mValueError\u001b[0m                                Traceback (most recent call last)",
      "Cell \u001b[1;32mIn[6], line 17\u001b[0m\n\u001b[0;32m     14\u001b[0m     c \u001b[38;5;241m=\u001b[39m a \u001b[38;5;241m*\u001b[39m b\n\u001b[0;32m     15\u001b[0m     \u001b[38;5;28;01mreturn\u001b[39;00m c\n\u001b[1;32m---> 17\u001b[0m a \u001b[38;5;241m=\u001b[39m \u001b[38;5;28mint\u001b[39m(\u001b[38;5;28minput\u001b[39m (\u001b[38;5;124m\"\u001b[39m\u001b[38;5;124minput a : \u001b[39m\u001b[38;5;124m\"\u001b[39m))\n\u001b[0;32m     18\u001b[0m b \u001b[38;5;241m=\u001b[39m \u001b[38;5;28mint\u001b[39m(\u001b[38;5;28minput\u001b[39m (\u001b[38;5;124m\"\u001b[39m\u001b[38;5;124minput a : \u001b[39m\u001b[38;5;124m\"\u001b[39m))\n\u001b[0;32m     23\u001b[0m c \u001b[38;5;241m=\u001b[39m mul( sub(a ,b), add(a ,b))\n",
      "\u001b[1;31mValueError\u001b[0m: invalid literal for int() with base 10: 'c'"
     ]
    }
   ],
   "source": [
    "\n",
    "def add(a ,b):\n",
    "    c = a + b\n",
    "    return  c\n",
    "\n",
    "def sub(a ,b):\n",
    "    c = a - b\n",
    "    return c\n",
    "\n",
    "def div(a ,b):\n",
    "    c = a / b\n",
    "    return c\n",
    "\n",
    "def mul(a ,b):\n",
    "    c = a * b\n",
    "    return c\n",
    "\n",
    "a = int(input (\"input a : \"))\n",
    "b = int(input (\"input a : \"))\n",
    "\n",
    "\n",
    "\n",
    "\n",
    "c = mul( sub(a ,b), add(a ,b))\n",
    "print(c)\n",
    "\n",
    "\n",
    "\n",
    "\n"
   ]
  }
 ],
 "metadata": {
  "kernelspec": {
   "display_name": "base",
   "language": "python",
   "name": "python3"
  },
  "language_info": {
   "codemirror_mode": {
    "name": "ipython",
    "version": 3
   },
   "file_extension": ".py",
   "mimetype": "text/x-python",
   "name": "python",
   "nbconvert_exporter": "python",
   "pygments_lexer": "ipython3",
   "version": "3.13.5"
  }
 },
 "nbformat": 4,
 "nbformat_minor": 5
}
