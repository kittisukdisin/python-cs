{
 "cells": [
  {
   "cell_type": "code",
   "execution_count": null,
   "id": "54426644",
   "metadata": {},
   "outputs": [
    {
     "name": "stdout",
     "output_type": "stream",
     "text": [
      "กรุณาป้อนหน่วยกิตเป็นตัวเลขที่ถูกต้อง\n",
      "กรุณาป้อนหน่วยกิตเป็นตัวเลขที่ถูกต้อง\n",
      "กรุณาป้อนหน่วยกิตเป็นตัวเลขที่ถูกต้อง\n",
      "กรุณาป้อนหน่วยกิตเป็นตัวเลขที่ถูกต้อง\n",
      "กรุณาป้อนหน่วยกิตเป็นตัวเลขที่ถูกต้อง\n",
      "กรุณาป้อนหน่วยกิตเป็นตัวเลขที่ถูกต้อง\n",
      "กรุณาป้อนหน่วยกิตเป็นตัวเลขที่ถูกต้อง\n",
      "กรุณาป้อนหน่วยกิตเป็นตัวเลขที่ถูกต้อง\n",
      "กรุณาป้อนหน่วยกิตเป็นตัวเลขที่ถูกต้อง\n",
      "กรุณาป้อนหน่วยกิตเป็นตัวเลขที่ถูกต้อง\n",
      "กรุณาป้อนหน่วยกิตเป็นตัวเลขที่ถูกต้อง\n",
      "กรุณาป้อนหน่วยกิตเป็นตัวเลขที่ถูกต้อง\n",
      "กรุณาป้อนหน่วยกิตเป็นตัวเลขที่ถูกต้อง\n",
      "กรุณาป้อนหน่วยกิตเป็นตัวเลขที่ถูกต้อง\n",
      "กรุณาป้อนหน่วยกิตเป็นตัวเลขที่ถูกต้อง\n",
      "กรุณาป้อนหน่วยกิตเป็นตัวเลขที่ถูกต้อง\n",
      "กรุณาป้อนหน่วยกิตเป็นตัวเลขที่ถูกต้อง\n",
      "กรุณาป้อนหน่วยกิตเป็นตัวเลขที่ถูกต้อง\n",
      "กรุณาป้อนหน่วยกิตเป็นตัวเลขที่ถูกต้อง\n",
      "กรุณาป้อนหน่วยกิตเป็นตัวเลขที่ถูกต้อง\n",
      "กรุณาป้อนหน่วยกิตเป็นตัวเลขที่ถูกต้อง\n",
      "กรุณาป้อนหน่วยกิตเป็นตัวเลขที่ถูกต้อง\n",
      "กรุณาป้อนหน่วยกิตเป็นตัวเลขที่ถูกต้อง\n"
     ]
    }
   ],
   "source": [
    "class Course:\n",
    "    def __init__(self, course_name, credits, students):\n",
    "        self.course_name = course_name\n",
    "        self.credits = credits\n",
    "        self.students = students\n",
    "\n",
    "    def __str__(self):\n",
    "        return f\"{self.course_name}({self.credits} credits, {self.students} students)\"\n",
    "\n",
    "courses = [\n",
    "    Course(\"สังคมศึกษา\", 30, 50),\n",
    "    Course(\"ประวัติศาสตร์\", 30, 50),\n",
    "    Course(\"ภาษาอังกฤษ\", 30, 50),\n",
    "  ]\n",
    "while True:\n",
    "    name = input(\"ป้อนชื่รายวิชา (หรือ 'stop' เพื่อออก): \")\n",
    "    if name.lower() == \"stop\":\n",
    "        break\n",
    "\n",
    "    credits = input(\"ป้อนหน่วยกิต: \")\n",
    "    try:\n",
    "      if '_' in credits:\n",
    "          credits = float(credits)\n",
    "      else:\n",
    "            credits = int(credits)\n",
    "    except ValueError:\n",
    "      print(\"กรุณาป้อนหน่วยกิตเป็นตัวเลขที่ถูกต้อง\")\n",
    "      continue\n",
    "    student = int(input(\"ป้อนจำนวนนักเรียน: \"))\n",
    "    courses.append(name, credits, student)\n",
    "\n",
    "    print(\"\\ภาระหน่วยกิจของเเต่ละวิชา :\")\n",
    "    low_student_corses = list(filter(lambda c: c.student < 30, courses))\n",
    "    for c in low_student_corses:\n",
    "        print(c)\n",
    "\n",
    "    total_burden = list (map(lambda c: c.credits * c.student, courses))\n",
    "    print(\"\\nภาระหน่วยกิตขอเเต่ละวิชา:\", total_burden)\n",
    "\n",
    "    sorted_burden = sorted (map(lambda c: c.credits * c.student, courses), reverse=True)\n",
    "    print(\"\\nเรียงภาระหน่วยกิตจากมากไปน้อย:\", sorted_burden)\n",
    "\n",
    "\n",
    "\n",
    "\n"
   ]
  },
  {
   "cell_type": "code",
   "execution_count": null,
   "id": "eef8fa41",
   "metadata": {},
   "outputs": [],
   "source": []
  }
 ],
 "metadata": {
  "kernelspec": {
   "display_name": "base",
   "language": "python",
   "name": "python3"
  },
  "language_info": {
   "codemirror_mode": {
    "name": "ipython",
    "version": 3
   },
   "file_extension": ".py",
   "mimetype": "text/x-python",
   "name": "python",
   "nbconvert_exporter": "python",
   "pygments_lexer": "ipython3",
   "version": "3.13.5"
  }
 },
 "nbformat": 4,
 "nbformat_minor": 5
}
