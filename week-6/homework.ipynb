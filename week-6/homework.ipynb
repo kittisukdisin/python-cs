{
 "cells": [
  {
   "cell_type": "code",
   "execution_count": 7,
   "id": "54426644",
   "metadata": {},
   "outputs": [
    {
     "name": "stdout",
     "output_type": "stream",
     "text": [
      "\n",
      "ภาระหน่วยกิตของแต่ละวิชา:\n",
      "- สังคมศึกษา: 1500 หน่วยกิต\n",
      "- ประวัติศาสตร์: 1500 หน่วยกิต\n",
      "- ภาษาอังกฤษ: 1500 หน่วยกิต\n",
      "- สังคมศึกษา: 1 หน่วยกิต\n",
      "\n",
      "วิชาที่มีนักเรียนน้อยกว่า 30 คน:\n",
      "- สังคมศึกษา (1 หน่วยกิต, 1 คน)\n",
      "\n",
      "ภาระหน่วยกิตของแต่ละวิชา: [1500, 1500, 1500, 1]\n",
      "\n",
      "เรียงภาระหน่วยกิตจากมากไปน้อย: [1500, 1500, 1500, 1]\n"
     ]
    }
   ],
   "source": [
    "class Course:\n",
    "    def __init__(self, course_name, credits, students):\n",
    "        self.course_name = course_name\n",
    "        self.credits = credits\n",
    "        self.students = students\n",
    "\n",
    "    def __str__(self):\n",
    "        return f\"{self.course_name} ({self.credits} หน่วยกิต, {self.students} คน)\"\n",
    "\n",
    "courses = [\n",
    "    Course(\"สังคมศึกษา\", 30, 50),\n",
    "    Course(\"ประวัติศาสตร์\", 30, 50),\n",
    "    Course(\"ภาษาอังกฤษ\", 30, 50),\n",
    "]\n",
    "\n",
    "while True:\n",
    "    name = input(\"ป้อนชื่อรายวิชา (หรือ 'stop' เพื่อออก): \")\n",
    "    if name.lower() == \"stop\":\n",
    "        break\n",
    "\n",
    "    credits = input(\"ป้อนหน่วยกิต: \")\n",
    "    try:\n",
    "        if '_' in credits:\n",
    "            credits = float(credits)\n",
    "        else:\n",
    "            credits = int(credits)\n",
    "    except ValueError:\n",
    "        print(\"กรุณาป้อนหน่วยกิตเป็นตัวเลขที่ถูกต้อง\")\n",
    "        continue\n",
    "\n",
    "    try:\n",
    "        students = int(input(\"ป้อนจำนวนนักเรียน: \"))\n",
    "    except ValueError:\n",
    "        print(\"กรุณาป้อนจำนวนนักเรียนเป็นตัวเลข\")\n",
    "        continue\n",
    "\n",
    "    courses.append(Course(name, credits, students))\n",
    "\n",
    "    print(\"\\nภาระหน่วยกิตของแต่ละวิชา:\")\n",
    "    for c in courses:\n",
    "        print(f\"- {c.course_name}: {c.credits * c.students} หน่วยกิต\")\n",
    "\n",
    "    low_student_courses = list(filter(lambda c: c.students < 30, courses))\n",
    "    if low_student_courses:\n",
    "        print(\"\\nวิชาที่มีนักเรียนน้อยกว่า 30 คน:\")\n",
    "        for c in low_student_courses:\n",
    "            print(f\"- {c}\")\n",
    "    else:\n",
    "        print(\"\\nไม่มีวิชาที่มีนักเรียนน้อยกว่า 30 คน\")\n",
    "\n",
    "    total_burden = list(map(lambda c: c.credits * c.students, courses))\n",
    "    print(\"\\nภาระหน่วยกิตของแต่ละวิชา:\", total_burden)\n",
    "\n",
    "    sorted_burden = sorted(total_burden, reverse=True)\n",
    "    print(\"\\nเรียงภาระหน่วยกิตจากมากไปน้อย:\", sorted_burden)\n",
    "\n",
    "\n",
    "\n",
    "\n"
   ]
  },
  {
   "cell_type": "code",
   "execution_count": null,
   "id": "eef8fa41",
   "metadata": {},
   "outputs": [],
   "source": []
  }
 ],
 "metadata": {
  "kernelspec": {
   "display_name": "base",
   "language": "python",
   "name": "python3"
  },
  "language_info": {
   "codemirror_mode": {
    "name": "ipython",
    "version": 3
   },
   "file_extension": ".py",
   "mimetype": "text/x-python",
   "name": "python",
   "nbconvert_exporter": "python",
   "pygments_lexer": "ipython3",
   "version": "3.13.5"
  }
 },
 "nbformat": 4,
 "nbformat_minor": 5
}
